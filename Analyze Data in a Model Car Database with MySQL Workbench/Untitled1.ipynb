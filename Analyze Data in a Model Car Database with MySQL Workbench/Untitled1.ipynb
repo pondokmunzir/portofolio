{
 "cells": [
  {
   "cell_type": "code",
   "execution_count": null,
   "id": "81e09315-4d12-4f24-bbaf-849bc2abad83",
   "metadata": {},
   "outputs": [],
   "source": [
    "import mysql.connector\n",
    "\n",
    "# Buat koneksi ke database MySQL\n",
    "conn = mysql.connector.connect(\n",
    "    host='127.0.0.1',\n",
    "    user='root',\n",
    "    password='smadas',\n",
    "    database='metaanalysist'\n",
    ")\n",
    "\n",
    "# Buat objek cursor\n",
    "cursor = conn.cursor()\n",
    "\n",
    "# Baca file SQL dan jalankan perintah-perintah SQL\n",
    "with open('file_sql.sql', 'r') as sql_file:\n",
    "    sql_script = sql_file.read()\n",
    "    cursor.execute(sql_script, multi=True)\n",
    "\n",
    "# Commit perubahan (penting jika Anda melakukan perubahan data)\n",
    "conn.commit()\n",
    "\n",
    "# Tutup koneksi\n",
    "conn.close()\n"
   ]
  }
 ],
 "metadata": {
  "kernelspec": {
   "display_name": "Python 3 (ipykernel)",
   "language": "python",
   "name": "python3"
  },
  "language_info": {
   "codemirror_mode": {
    "name": "ipython",
    "version": 3
   },
   "file_extension": ".py",
   "mimetype": "text/x-python",
   "name": "python",
   "nbconvert_exporter": "python",
   "pygments_lexer": "ipython3",
   "version": "3.11.5"
  }
 },
 "nbformat": 4,
 "nbformat_minor": 5
}
